{
 "cells": [
  {
   "cell_type": "code",
   "execution_count": null,
   "metadata": {},
   "outputs": [
    {
     "ename": "",
     "evalue": "",
     "output_type": "error",
     "traceback": [
      "\u001b[1;31mRunning cells with 'Python 3.12.4' requires the ipykernel package.\n",
      "\u001b[1;31mRun the following command to install 'ipykernel' into the Python environment. \n",
      "\u001b[1;31mCommand: 'c:/Users/heman/AppData/Local/Microsoft/WindowsApps/python3.12.exe -m pip install ipykernel -U --user --force-reinstall'"
     ]
    }
   ],
   "source": [
    " import pandas as pd\n",
    "df = pd.read_csv('C:\\\\Users\\\\heman\\\\Downloads\\\\access-code-password-recovery-code (2).csv')\n",
    "filtered_df = df[df['Department'] == 'Engineering'] \n",
    "df_missing = df.copy()\n",
    "df_missing.loc[2, 'First name'] = None   \n",
    "df_filled = df_missing.fillna('Unknown')\n",
    "df_dropped = df_missing.dropna()\n",
    "summary_stats = df['Identifier'].describe()\n",
    "mean_value = df['Identifier'].mean()\n",
    "median_value = df['Identifier'].median()\n",
    "std_dev = df['Identifier'].std()\n",
    "sum_value = df['Identifier'].sum()\n",
    "print(\"Original DataFrame:\")\n",
    "print(df)\n",
    "print(\"\\nFiltered DataFrame (Department = 'Engineering'):\")\n",
    "print(filtered_df)\n",
    "print(\"\\nDataFrame with introduced missing values:\")\n",
    "print(df_missing)\n",
    "print(\"\\nDataFrame with filled missing values:\")\n",
    "print(df_filled)\n",
    "print(\"\\nDataFrame with dropped rows containing missing values:\")\n",
    "print(df_dropped)\n",
    "print(\"\\nSummary Statistics for 'Identifier':\")\n",
    "print(summary_stats)\n",
    "print(\"\\nMean Identifier:\", mean_value)\n",
    "print(\"Median Identifier:\", median_value)\n",
    "print(\"Standard Deviation of Identifier:\", std_dev)\n",
    "print(\"Sum of Identifiers:\", sum_value)"
   ]
  }
 ],
 "metadata": {
  "kernelspec": {
   "display_name": "Python 3",
   "language": "python",
   "name": "python3"
  },
  "language_info": {
   "name": "python",
   "version": "3.12.4"
  }
 },
 "nbformat": 4,
 "nbformat_minor": 2
}
