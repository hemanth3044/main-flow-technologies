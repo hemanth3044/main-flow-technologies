{
 "cells": [
  {
   "cell_type": "code",
   "execution_count": null,
   "metadata": {},
   "outputs": [],
   "source": [
    "import pandas as pd\n",
    "import matplotlib.pyplot as plt\n",
    "df = pd.read_csv('C:\\\\Users\\\\heman\\\\downloards\\\\sales.csv')  \n",
    "df = pd.DataFrame(data)\n",
    "plt.figure(figsize=(10, 6))\n",
    "plt.bar(df['Month'], df['Sales'], color='blue', label='Sales')\n",
    "plt.bar(df['Month'], df['Expenses'], color='red', bottom=df['Sales'], label='Expenses')\n",
    "plt.xlabel('Month')\n",
    "plt.ylabel('Amount')\n",
    "plt.title('Monthly Sales and Expenses')\n",
    "plt.legend()\n",
    "plt.show()\n",
    "plt.figure(figsize=(10, 6))\n",
    "plt.plot(df['Month'], df['Sales'], marker='o', linestyle='-', color='b', label='Sales')\n",
    "plt.plot(df['Month'], df['Expenses'], marker='o', linestyle='-', color='r', label='Expenses')\n",
    "plt.xlabel('Month')\n",
    "plt.ylabel('Amount')\n",
    "plt.title('Monthly Sales and Expenses Trend')\n",
    "plt.legend()\n",
    "plt.show()"
   ]
  }
 ],
 "metadata": {
  "language_info": {
   "name": "python"
  }
 },
 "nbformat": 4,
 "nbformat_minor": 2
}
