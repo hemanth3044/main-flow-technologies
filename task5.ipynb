{
 "cells": [
  {
   "cell_type": "code",
   "execution_count": null,
   "metadata": {},
   "outputs": [],
   "source": [
    "import pandas as pd\n",
    "import numpy as np\n",
    "data = {\n",
    "    'feature1': np.random.rand(100),\n",
    "    'feature2': np.random.rand(100),\n",
    "    'feature3': np.random.rand(100)\n",
    "}\n",
    "df = pd.DataFrame(data)\n",
    "df['feature_sum'] = df['feature1'] + df['feature2']\n",
    "df['feature_diff'] = df['feature1'] - df['feature2']\n",
    "df['feature_ratio'] = df['feature1'] / (df['feature2'] + 1e-5)  \n",
    "df['feature_square'] = df['feature3'] ** 2\n",
    "print(df.head())\n",
    "from sklearn.decomposition import PCA\n",
    "from sklearn.preprocessing import StandardScaler\n",
    "scaler = StandardScaler()\n",
    "scaled_features = scaler.fit_transform(df)\n",
    "pca = PCA(n_components=2)\n",
    "pca_features = pca.fit_transform(scaled_features)\n",
    "print(\"Explained Variance Ratio:\", pca.explained_variance_ratio_)\n",
    "print(\"PCA Components:\", pca.components_)\n",
    "from xgboost import XGBClassifier\n",
    "from sklearn.model_selection import train_test_split\n",
    "target = np.random.randint(0, 2, size=100)\n",
    "X_train, X_test, y_train, y_test = train_test_split(df, target, test_size=0.2, random_state=42)\n",
    "model = XGBClassifier()\n",
    "model.fit(X_train, y_train)\n",
    "importance = model.feature_importances_\n",
    "feature_importance_df = pd.DataFrame({\n",
    "    'Feature': df.columns,\n",
    "    'Importance': importance\n",
    "}).sort_values(by='Importance', ascending=False)\n",
    "\n",
    "print(feature_importance_df)\n",
    "from sklearn.feature_selection import SelectFromModel\n",
    "from sklearn.ensemble import RandomForestClassifier\n",
    "from sklearn.metrics import accuracy_score\n",
    "selector = SelectFromModel(RandomForestClassifier(n_estimators=100))\n",
    "selector.fit(X_train, y_train)\n",
    "X_train_selected = selector.transform(X_train)\n",
    "X_test_selected = selector.transform(X_test)\n",
    "model = RandomForestClassifier()\n",
    "model.fit(X_train_selected, y_train)\n",
    "predictions = model.predict(X_test_selected)\n",
    "accuracy = accuracy_score(y_test, predictions)\n",
    "print(\"Model accuracy with selected features:\", accuracy)"
   ]
  }
 ],
 "metadata": {
  "language_info": {
   "name": "python"
  }
 },
 "nbformat": 4,
 "nbformat_minor": 2
}
