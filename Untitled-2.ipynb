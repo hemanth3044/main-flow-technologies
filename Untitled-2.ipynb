{
 "cells": [
  {
   "cell_type": "code",
   "execution_count": 2,
   "metadata": {},
   "outputs": [
    {
     "name": "stdout",
     "output_type": "stream",
     "text": [
      "Original list: [1, 2, 3, 4, 5]\n",
      "After appending 6: [1, 2, 3, 4, 5, 6]\n",
      "After removing 2: [1, 3, 4, 5, 6]\n",
      "After modifying the second element to 8: [1, 8, 4, 5, 6]\n",
      "\n",
      "Original dictionary: {'a': 1, 'b': 2, 'c': 3}\n",
      "After adding key 'd' with value 4: {'a': 1, 'b': 2, 'c': 3, 'd': 4}\n",
      "After removing key 'b': {'a': 1, 'c': 3, 'd': 4}\n",
      "After modifying the value of key 'a' to 10: {'a': 10, 'c': 3, 'd': 4}\n",
      "\n",
      "Original set: {1, 2, 3, 4, 5}\n",
      "After adding 6: {1, 2, 3, 4, 5, 6}\n",
      "After removing 3: {1, 2, 4, 5, 6}\n",
      "\n",
      "Final state of list: [1, 8, 4, 5, 6]\n",
      "Final state of dictionary: {'a': 10, 'c': 3, 'd': 4}\n",
      "Final state of set: {1, 2, 4, 5, 6}\n"
     ]
    }
   ],
   "source": [
    "\n",
    "my_list = [1, 2, 3, 4, 5]\n",
    "my_dict = {'a': 1, 'b': 2, 'c': 3}\n",
    "my_set = {1, 2, 3, 4, 5}\n",
    "print(\"Original list:\", my_list)\n",
    "my_list.append(6)  \n",
    "print(\"After appending 6:\", my_list)\n",
    "my_list.remove(2) \n",
    "print(\"After removing 2:\", my_list)\n",
    "my_list[1] = 8  \n",
    "print(\"After modifying the second element to 8:\", my_list)\n",
    "print(\"\\nOriginal dictionary:\", my_dict)\n",
    "my_dict['d'] = 4 \n",
    "print(\"After adding key 'd' with value 4:\", my_dict)\n",
    "del my_dict['b']  \n",
    "print(\"After removing key 'b':\", my_dict)\n",
    "my_dict['a'] = 10  \n",
    "print(\"After modifying the value of key 'a' to 10:\", my_dict)\n",
    "print(\"\\nOriginal set:\", my_set)\n",
    "my_set.add(6)  \n",
    "print(\"After adding 6:\", my_set)\n",
    "my_set.remove(3)  \n",
    "print(\"After removing 3:\", my_set)\n",
    "print(\"\\nFinal state of list:\", my_list)\n",
    "print(\"Final state of dictionary:\", my_dict)\n",
    "print(\"Final state of set:\", my_set)\n"
   ]
  },
  {
   "cell_type": "code",
   "execution_count": null,
   "metadata": {},
   "outputs": [],
   "source": []
  }
 ],
 "metadata": {
  "kernelspec": {
   "display_name": "Python 3",
   "language": "python",
   "name": "python3"
  },
  "language_info": {
   "codemirror_mode": {
    "name": "ipython",
    "version": 3
   },
   "file_extension": ".py",
   "mimetype": "text/x-python",
   "name": "python",
   "nbconvert_exporter": "python",
   "pygments_lexer": "ipython3",
   "version": "3.11.9"
  }
 },
 "nbformat": 4,
 "nbformat_minor": 2
}
