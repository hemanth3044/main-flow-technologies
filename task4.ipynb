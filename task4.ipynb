{
 "cells": [
  {
   "cell_type": "code",
   "execution_count": null,
   "metadata": {},
   "outputs": [],
   "source": [
    "import pandas as pd\n",
    "import numpy as np\n",
    "import matplotlib.pyplot as plt\n",
    "import seaborn as sns\n",
    "np.random.seed(42)  \n",
    " df = pd.read_csv('c:\\\\users\\\\heman\\\\dowlands\\\\access-password.csv')\n",
    "df = pd.DataFrame(data)\n",
    "print(df.head())\n",
    "print(df.describe())\n",
    "df.hist(bins=20, figsize=(15, 10))\n",
    "plt.suptitle('Distribution of Numerical Variables')\n",
    "plt.show()\n",
    "plt.figure(figsize=(15, 10))\n",
    "sns.boxplot(data=df[['Age', 'Salary', 'Experience', 'Satisfaction_Score']])\n",
    "plt.title('Boxplot for Outlier Detection')\n",
    "plt.xticks(rotation=45)\n",
    "plt.show()\n",
    "correlation_matrix = df[['Age', 'Salary', 'Experience', 'Satisfaction_Score']].corr()\n",
    "plt.figure(figsize=(12, 8))\n",
    "sns.heatmap(correlation_matrix, annot=True, cmap='coolwarm', linewidths=0.5)\n",
    "plt.title('Correlation Heatmap')\n",
    "plt.show()\n",
    "sns.pairplot(df[['Age', 'Salary', 'Experience', 'Satisfaction_Score']])\n",
    "plt.suptitle('Pairplot of Numerical Variables')\n",
    "plt.show()\n",
    "plt.figure(figsize=(12, 6))\n",
    "sns.heatmap(df.isnull(), cbar=False, cmap='viridis')\n",
    "plt.title('Missing Data Heatmap')\n",
    "plt.show()"
   ]
  },
  {
   "cell_type": "code",
   "execution_count": null,
   "metadata": {},
   "outputs": [],
   "source": []
  }
 ],
 "metadata": {
  "language_info": {
   "name": "python"
  }
 },
 "nbformat": 4,
 "nbformat_minor": 2
}
